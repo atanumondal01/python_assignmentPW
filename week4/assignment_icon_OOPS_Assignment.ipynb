{
  "nbformat": 4,
  "nbformat_minor": 0,
  "metadata": {
    "colab": {
      "provenance": []
    },
    "kernelspec": {
      "name": "python3",
      "display_name": "Python 3"
    },
    "language_info": {
      "name": "python"
    }
  },
  "cells": [
    {
      "cell_type": "code",
      "execution_count": 13,
      "metadata": {
        "id": "wgXSyb2eyA-a"
      },
      "outputs": [],
      "source": []
    },
    {
      "cell_type": "code",
      "source": [
        "#Q1 Explain Class and Object with respect to Object-Oriented Programming. Give a suitable example."
      ],
      "metadata": {
        "id": "vLVOjYdkyC7d"
      },
      "execution_count": 14,
      "outputs": []
    },
    {
      "cell_type": "code",
      "source": [
        "\"\"\"In object-oriented programming (OOP), a class is a blueprint or a template for creating objects. It defines the\n",
        "structure and behavior that an object will have. A class encapsulates data (attributes) and functions (methods) that\n",
        " operate on that data. It serves as a blueprint for creating multiple instances of objects with similar characteristics.\n",
        "\n",
        "An object, on the other hand, is an instance of a class. It is a real-world entity that possesses state\n",
        " (values of attributes) and behavior (functions or methods). Objects are created based on the defined structure and\n",
        " behavior specified by the class. Each object can have its own unique values for the attributes defined in the class.\"\"\""
      ],
      "metadata": {
        "colab": {
          "base_uri": "https://localhost:8080/",
          "height": 124
        },
        "id": "hUpBHF2ayDCM",
        "outputId": "146808fd-9b36-4e76-e53b-a62f9b7c2be6"
      },
      "execution_count": 15,
      "outputs": [
        {
          "output_type": "execute_result",
          "data": {
            "text/plain": [
              "'In object-oriented programming (OOP), a class is a blueprint or a template for creating objects. It defines the \\nstructure and behavior that an object will have. A class encapsulates data (attributes) and functions (methods) that\\n operate on that data. It serves as a blueprint for creating multiple instances of objects with similar characteristics.\\n\\nAn object, on the other hand, is an instance of a class. It is a real-world entity that possesses state \\n (values of attributes) and behavior (functions or methods). Objects are created based on the defined structure and \\n behavior specified by the class. Each object can have its own unique values for the attributes defined in the class.'"
            ],
            "application/vnd.google.colaboratory.intrinsic+json": {
              "type": "string"
            }
          },
          "metadata": {},
          "execution_count": 15
        }
      ]
    },
    {
      "cell_type": "code",
      "source": [
        "class Car:\n",
        "    def __init__(self, brand, model, color):\n",
        "        self.brand = brand\n",
        "        self.model = model\n",
        "        self.color = color\n",
        "\n",
        "    def start(self):\n",
        "        print(\"The car has started.\")\n",
        "\n",
        "    def accelerate(self):\n",
        "        print(\"The car is accelerating.\")\n",
        "\n",
        "    def stop(self):\n",
        "        print(\"The car has stopped.\")\n"
      ],
      "metadata": {
        "id": "tdndFPxxyDFU"
      },
      "execution_count": 16,
      "outputs": []
    },
    {
      "cell_type": "code",
      "source": [
        "car1 = Car(\"Toyota\", \"Camry\", \"Red\")\n",
        "car2 = Car(\"Ford\", \"Mustang\", \"Blue\")\n"
      ],
      "metadata": {
        "id": "Z-nUyYM7yDIs"
      },
      "execution_count": 17,
      "outputs": []
    },
    {
      "cell_type": "code",
      "source": [
        "car1.start()     # Output: The car has started.\n",
        "car2.accelerate()     # Output: The car is accelerating.\n",
        "car1.stop()     # Output: The car has stopped.\n"
      ],
      "metadata": {
        "colab": {
          "base_uri": "https://localhost:8080/"
        },
        "id": "otnu64RTyDMF",
        "outputId": "22029657-d07b-4575-f887-2e469e8b781e"
      },
      "execution_count": 18,
      "outputs": [
        {
          "output_type": "stream",
          "name": "stdout",
          "text": [
            "The car has started.\n",
            "The car is accelerating.\n",
            "The car has stopped.\n"
          ]
        }
      ]
    },
    {
      "cell_type": "code",
      "source": [],
      "metadata": {
        "id": "f6QsE2t9yDOu"
      },
      "execution_count": 18,
      "outputs": []
    },
    {
      "cell_type": "code",
      "source": [
        "#Q2 Q2. Name the four pillars of OOPs."
      ],
      "metadata": {
        "id": "Kjz91sZTyDRk"
      },
      "execution_count": 19,
      "outputs": []
    },
    {
      "cell_type": "code",
      "source": [
        "\"\"\"The four pillars of object-oriented programming (OOP) are:\n",
        "\n",
        "1. Encapsulation: Bundling data and methods together within a class, promoting data hiding and abstraction.\n",
        "\n",
        "2. Inheritance: Creating new classes based on existing classes, allowing for code reuse and modification.\n",
        "\n",
        "3. Polymorphism: Objects of different classes can be treated as objects of a common superclass, enabling different\n",
        "behaviors.\n",
        "\n",
        "4. Abstraction: Representing essential features of real-world entities in a simplified manner, providing a higher-level\n",
        "view and hiding complexities.\n",
        "\n",
        "These four pillars form the fundamental principles of OOP, facilitating code organization, reusability,\n",
        "and maintainability in software development.\"\"\""
      ],
      "metadata": {
        "colab": {
          "base_uri": "https://localhost:8080/",
          "height": 124
        },
        "id": "Ww_VyJudyDVO",
        "outputId": "12023d2c-f05b-4f31-fadb-7f44556d0b30"
      },
      "execution_count": 20,
      "outputs": [
        {
          "output_type": "execute_result",
          "data": {
            "text/plain": [
              "'The four pillars of object-oriented programming (OOP) are:\\n\\n1. Encapsulation: Bundling data and methods together within a class, promoting data hiding and abstraction.\\n\\n2. Inheritance: Creating new classes based on existing classes, allowing for code reuse and modification.\\n\\n3. Polymorphism: Objects of different classes can be treated as objects of a common superclass, enabling different \\nbehaviors.\\n\\n4. Abstraction: Representing essential features of real-world entities in a simplified manner, providing a higher-level \\nview and hiding complexities.\\n\\nThese four pillars form the fundamental principles of OOP, facilitating code organization, reusability, \\nand maintainability in software development.'"
            ],
            "application/vnd.google.colaboratory.intrinsic+json": {
              "type": "string"
            }
          },
          "metadata": {},
          "execution_count": 20
        }
      ]
    },
    {
      "cell_type": "code",
      "source": [],
      "metadata": {
        "id": "CwWgUoU6yDY3"
      },
      "execution_count": 20,
      "outputs": []
    },
    {
      "cell_type": "code",
      "source": [
        "#Q3  Explain why the __init__() function is used. Give a suitable example."
      ],
      "metadata": {
        "id": "3OXq4QUVyDcE"
      },
      "execution_count": 21,
      "outputs": []
    },
    {
      "cell_type": "code",
      "source": [
        "\"\"\"The __init__ function, also known as the constructor, is used in object-oriented programming to initialize the\n",
        "attributes of an object when it is created from a class. It is automatically called when an object is instantiated.\n",
        "\n",
        "The primary purpose of the `__init__()` function is to set the initial state or values of the object's attributes. It\n",
        "allows us to specify what data should be associated with an object and initialize it to a desired state. By defining this\n",
        "function within a class, we can ensure that the necessary setup steps are performed whenever a new object of that class is created.\n",
        "\n",
        "Here's an example\n",
        "\"\"\"\n",
        "\n",
        "class Person:\n",
        "    def __init__(self, name, age):\n",
        "        self.name = name\n",
        "        self.age = age\n",
        "\n",
        "    def introduce(self):\n",
        "        print(f\"My name is {self.name} and I am {self.age} years old.\")\n",
        "\n",
        "person1 = Person(\"Alice\", 25)\n",
        "\n",
        "person1.introduce()"
      ],
      "metadata": {
        "colab": {
          "base_uri": "https://localhost:8080/"
        },
        "id": "CxjGi41-yDfH",
        "outputId": "d0bc5f05-fb02-4272-a5c2-e8f11e6cf26e"
      },
      "execution_count": 22,
      "outputs": [
        {
          "output_type": "stream",
          "name": "stdout",
          "text": [
            "My name is Alice and I am 25 years old.\n"
          ]
        }
      ]
    },
    {
      "cell_type": "code",
      "source": [],
      "metadata": {
        "id": "xg11pSNUyDio"
      },
      "execution_count": 22,
      "outputs": []
    },
    {
      "cell_type": "code",
      "source": [
        "#Q4 Why self is used in OOPs?"
      ],
      "metadata": {
        "id": "KBsFzlKjyDls"
      },
      "execution_count": 23,
      "outputs": []
    },
    {
      "cell_type": "code",
      "source": [
        "\n",
        "\"\"\"In object-oriented programming (OOP), the self keyword is used:\n",
        "\n",
        "1. To refer to the instance of a class within its methods, allowing access to its attributes and methods.\n",
        "\n",
        "2. It differentiates between instance variables (object-specific) and class variables (shared among all instances).\n",
        "\n",
        "3.It ensures that the correct instance is being referenced, especially in scenarios involving multiple objects of the\n",
        "same class.\"\"\""
      ],
      "metadata": {
        "colab": {
          "base_uri": "https://localhost:8080/",
          "height": 89
        },
        "id": "usV7qGMRyDpi",
        "outputId": "098b6109-f7b5-4e3f-bb64-a6cd99ce565f"
      },
      "execution_count": 24,
      "outputs": [
        {
          "output_type": "execute_result",
          "data": {
            "text/plain": [
              "'In object-oriented programming (OOP), the self keyword is used:\\n\\n1. To refer to the instance of a class within its methods, allowing access to its attributes and methods.\\n\\n2. It differentiates between instance variables (object-specific) and class variables (shared among all instances).\\n\\n3.It ensures that the correct instance is being referenced, especially in scenarios involving multiple objects of the \\nsame class.'"
            ],
            "application/vnd.google.colaboratory.intrinsic+json": {
              "type": "string"
            }
          },
          "metadata": {},
          "execution_count": 24
        }
      ]
    },
    {
      "cell_type": "code",
      "source": [],
      "metadata": {
        "id": "1SGfZo9NyDsX"
      },
      "execution_count": 24,
      "outputs": []
    },
    {
      "cell_type": "code",
      "source": [
        "#Q5.What is inheritance? Give an example for each type of inheritance."
      ],
      "metadata": {
        "id": "e700eMcbyDvi"
      },
      "execution_count": 25,
      "outputs": []
    },
    {
      "cell_type": "code",
      "source": [
        "\"\"\"Inheritance is a fundamental concept in object-oriented programming (OOP) that allows the creation of new\n",
        " classes (derived or child classes) based on existing classes (base or parent classes). It enables the derived classes\n",
        "  to inherit the properties and behavior of the parent class, promoting code reuse and reducing redundancy.\n",
        "\n",
        "There are several types of inheritance:\n",
        "\n",
        "1. Single Inheritance: In single inheritance, a derived class inherits properties and methods from a single base class.\n",
        " It forms a simple hierarchy where each derived class has only one immediate base class.\"\"\"\n",
        "\n",
        "\n",
        "class Animal:\n",
        "    def eat(self):\n",
        "        print(\"Eating...\")\n",
        "\n",
        "class Dog(Animal):\n",
        "    def bark(self):\n",
        "        print(\"Barking...\")\n",
        "\n",
        "dog = Dog()\n",
        "dog.eat()   # Output: Eating...\n",
        "dog.bark()  # Output: Barking...\n",
        "\n",
        "\n",
        "\"\"\"2. Multiple Inheritance: Multiple inheritance allows a derived class to inherit properties and methods from multiple\n",
        "base classes. It enables the derived class to combine the features of different classes.\"\"\"\n",
        "\n",
        "class Fish:\n",
        "    def swim(self):\n",
        "        print(\"Swimming...\")\n",
        "\n",
        "class Bird:\n",
        "    def fly(self):\n",
        "        print(\"Flying...\")\n",
        "\n",
        "class FlyingFish(Fish, Bird):\n",
        "    pass\n",
        "\n",
        "flying_fish = FlyingFish()\n",
        "flying_fish.swim()\n",
        "flying_fish.fly()\n",
        "\n",
        "\n",
        "\"\"\"3. Multilevel Inheritance: In multilevel inheritance, a derived class inherits properties and methods from a base class,\n",
        "and that derived class becomes the base class for another class. It forms a hierarchical chain of classes.\"\"\"\n",
        "\n",
        "\n",
        "\n",
        "class Animal:\n",
        "    def eat(self):\n",
        "        print(\"Eating...\")\n",
        "\n",
        "class Mammal(Animal):\n",
        "    def sleep(self):\n",
        "        print(\"Sleeping...\")\n",
        "\n",
        "class Dog(Mammal):\n",
        "    def bark(self):\n",
        "        print(\"Barking...\")\n",
        "\n",
        "dog = Dog()\n",
        "dog.eat()\n",
        "dog.sleep()\n",
        "dog.bark()\n",
        "\n",
        "\n",
        "\"\"\"4. Hierarchical Inheritance: In hierarchical inheritance, multiple derived classes inherit properties and methods\n",
        "from a single base class. It allows the base class to serve as a common superclass for multiple derived classes.\"\"\"\n",
        "\n",
        "\n",
        "class Shape:\n",
        "    def draw(self):\n",
        "        print(\"Drawing...\")\n",
        "\n",
        "class Circle(Shape):\n",
        "    def calculate_area(self):\n",
        "        print(\"Calculating area of circle...\")\n",
        "\n",
        "class Rectangle(Shape):\n",
        "    def calculate_area(self):\n",
        "        print(\"Calculating area of rectangle...\")\n",
        "\n",
        "circle = Circle()\n",
        "circle.draw()\n",
        "circle.calculate_area()\n",
        "\n",
        "rectangle = Rectangle()\n",
        "rectangle.draw()\n",
        "rectangle.calculate_area()\n",
        "\n",
        "\n"
      ],
      "metadata": {
        "colab": {
          "base_uri": "https://localhost:8080/"
        },
        "id": "xZy6H8glyDy3",
        "outputId": "a46f7ffe-0427-4267-c899-866b80993b05"
      },
      "execution_count": 29,
      "outputs": [
        {
          "output_type": "stream",
          "name": "stdout",
          "text": [
            "Eating...\n",
            "Barking...\n",
            "Swimming...\n",
            "Flying...\n",
            "Eating...\n",
            "Sleeping...\n",
            "Barking...\n",
            "Drawing...\n",
            "Calculating area of circle...\n",
            "Drawing...\n",
            "Calculating area of rectangle...\n"
          ]
        }
      ]
    },
    {
      "cell_type": "code",
      "source": [],
      "metadata": {
        "id": "ypwhvm04yD2H"
      },
      "execution_count": 29,
      "outputs": []
    },
    {
      "cell_type": "code",
      "source": [],
      "metadata": {
        "id": "MgWOAonlyD5z"
      },
      "execution_count": 29,
      "outputs": []
    },
    {
      "cell_type": "code",
      "source": [],
      "metadata": {
        "id": "1kkTEjfJyD8b"
      },
      "execution_count": 29,
      "outputs": []
    }
  ]
}