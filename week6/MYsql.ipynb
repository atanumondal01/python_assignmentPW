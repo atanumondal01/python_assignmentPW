{
 "cells": [
  {
   "cell_type": "code",
   "execution_count": null,
   "id": "e90dff3b",
   "metadata": {},
   "outputs": [],
   "source": [
    "#Q1"
   ]
  },
  {
   "cell_type": "code",
   "execution_count": null,
   "id": "47bb81c3",
   "metadata": {},
   "outputs": [],
   "source": [
    "\n",
    "#A database is a structured collection of data that is organized and stored in a way that allows for efficient \n",
    "#retrieval, updating, and management of the data. It provides a mechanism for storing, managing, and manipulating \n",
    "#large amounts of information.\n",
    "                       "
   ]
  },
  {
   "cell_type": "code",
   "execution_count": null,
   "id": "f90b1f68",
   "metadata": {},
   "outputs": [],
   "source": [
    "                   #SQL databases are suitable for structured data with complex relationships and provide strong \n",
    " # consistency, while NoSQL databases are better suited for unstructured or rapidly changing data, prioritizing \n",
    " #scalability and performance over strong consistency."
   ]
  },
  {
   "cell_type": "code",
   "execution_count": null,
   "id": "327a8303",
   "metadata": {},
   "outputs": [],
   "source": [
    "#Q2 DDL stands for Data Definition Language, which is a subset of SQL used to define and manage the structure of a \n",
    "#database. DDL statements are used to create, modify, and delete database objects such as tables, indexes, and views. \n",
    "#They define the schema and organization of data in the database.\n",
    "\n"
   ]
  },
  {
   "cell_type": "code",
   "execution_count": null,
   "id": "2a20081b",
   "metadata": {},
   "outputs": [],
   "source": [
    "#CREATE:\n",
    "#The CREATE statement is used to create new database objects. For example, to create a table named \"Employees\" with columns for employee ID, name, and salary, the following SQL statement can be used:'''"
   ]
  },
  {
   "cell_type": "code",
   "execution_count": null,
   "id": "3a36534a",
   "metadata": {},
   "outputs": [],
   "source": [
    "#CREATE TABLE Employees (\n",
    "    ID INT PRIMARY KEY,\n",
    "    Name VARCHAR(50),\n",
    "    Salary DECIMAL(10,2)\n",
    ");"
   ]
  },
  {
   "cell_type": "code",
   "execution_count": null,
   "id": "2cbe0282",
   "metadata": {},
   "outputs": [],
   "source": [
    "The DROP statement is used to remove an existing database object. For instance, to drop the \"Employees\" table created earlier, the DROP statement can be used as follows:"
   ]
  },
  {
   "cell_type": "code",
   "execution_count": null,
   "id": "f1f27a58",
   "metadata": {},
   "outputs": [],
   "source": [
    "DROP TABLE Employees;\n"
   ]
  },
  {
   "cell_type": "code",
   "execution_count": null,
   "id": "69462b8c",
   "metadata": {},
   "outputs": [],
   "source": [
    "The ALTER statement is used to modify the structure of an existing database object. It allows adding, modifying, or dropping columns from a table, changing data types, or altering constraints. For example, to add a new column \"Department\" to the \"Employees\" table, the ALTER statement can be used:"
   ]
  },
  {
   "cell_type": "code",
   "execution_count": null,
   "id": "d1ebfca1",
   "metadata": {},
   "outputs": [],
   "source": [
    "ALTER TABLE Employees\n",
    "ADD Department VARCHAR(50);\n"
   ]
  },
  {
   "cell_type": "code",
   "execution_count": null,
   "id": "a6082017",
   "metadata": {},
   "outputs": [],
   "source": [
    "The TRUNCATE statement is used to remove all rows from a table, effectively resetting it to an empty state while keeping the table structure intact. It is faster than using DELETE statement for removing all rows. For instance, to truncate the \"Employees\" table, the TRUNCATE statement can be used:"
   ]
  },
  {
   "cell_type": "code",
   "execution_count": null,
   "id": "e8810b19",
   "metadata": {},
   "outputs": [],
   "source": [
    "TRUNCATE TABLE Employees;\n"
   ]
  },
  {
   "cell_type": "code",
   "execution_count": null,
   "id": "c3b26d54",
   "metadata": {},
   "outputs": [],
   "source": [
    "#Q3\n",
    "DML stands for Data Manipulation Language, which is a subset of SQL used to manipulate data within a database. DML statements are used to insert, update, retrieve, and delete data stored in the database.\n",
    "Here are explanations and examples of commonly used DML statements:\n",
    "INSERT:\n",
    "The INSERT statement is used to add new records into a table. It allows you to specify the values to be inserted into each column or use a SELECT statement to insert data from another table. For example, to insert a new employee record into the \"Employees\" table, the INSERT statement can be used:"
   ]
  },
  {
   "cell_type": "code",
   "execution_count": null,
   "id": "d2b98297",
   "metadata": {},
   "outputs": [],
   "source": [
    "INSERT INTO Employees (ID, Name, Salary)\n",
    "VALUES (1, 'John Doe', 5000);\n"
   ]
  },
  {
   "cell_type": "code",
   "execution_count": null,
   "id": "8b3b0380",
   "metadata": {},
   "outputs": [],
   "source": [
    "The UPDATE statement is used to modify existing records in a table. It allows you to change the values of one or more columns based on specified conditions. For example, to update the salary of an employee with ID 1 in the \"Employees\" table, the UPDATE statement can be used:"
   ]
  },
  {
   "cell_type": "code",
   "execution_count": null,
   "id": "95f279f1",
   "metadata": {},
   "outputs": [],
   "source": [
    "UPDATE Employees\n",
    "SET Salary = 6000\n",
    "WHERE ID = 1;\n"
   ]
  },
  {
   "cell_type": "code",
   "execution_count": null,
   "id": "ef52f8db",
   "metadata": {},
   "outputs": [],
   "source": [
    "The DELETE statement is used to remove records from a table based on specified conditions. It allows you to selectively delete one or more rows from a table. For example, to delete an employee record with ID 1 from the \"Employees\" table, the DELETE statement can be used:"
   ]
  },
  {
   "cell_type": "code",
   "execution_count": null,
   "id": "92e1f7c3",
   "metadata": {},
   "outputs": [],
   "source": [
    "DELETE FROM Employees\n",
    "WHERE ID = 1;"
   ]
  },
  {
   "cell_type": "code",
   "execution_count": null,
   "id": "4b3d523b",
   "metadata": {},
   "outputs": [],
   "source": []
  },
  {
   "cell_type": "code",
   "execution_count": null,
   "id": "4e8cd4e6",
   "metadata": {},
   "outputs": [],
   "source": []
  },
  {
   "cell_type": "code",
   "execution_count": null,
   "id": "d1b16e08",
   "metadata": {},
   "outputs": [],
   "source": [
    "# Q4\n",
    "DQL stands for Data Query Language, which is a subset of SQL used to retrieve and query data from a database. The most commonly used DQL statement is SELECT, which allows you to specify the columns to retrieve, the table(s) to query, and optional conditions to filter the data."
   ]
  },
  {
   "cell_type": "code",
   "execution_count": null,
   "id": "8f614632",
   "metadata": {},
   "outputs": [],
   "source": [
    "The SELECT statement is used to retrieve data from one or more tables in a database. It allows you to specify the columns you want to retrieve and apply filtering conditions."
   ]
  },
  {
   "cell_type": "code",
   "execution_count": null,
   "id": "c855865c",
   "metadata": {},
   "outputs": [],
   "source": [
    " SELECT column1, column2, ...\n",
    "FROM table_name\n",
    "WHERE condition;\n"
   ]
  },
  {
   "cell_type": "code",
   "execution_count": null,
   "id": "46e75651",
   "metadata": {},
   "outputs": [],
   "source": []
  },
  {
   "cell_type": "code",
   "execution_count": null,
   "id": "1042a32e",
   "metadata": {},
   "outputs": [],
   "source": [
    "#Q5"
   ]
  },
  {
   "cell_type": "code",
   "execution_count": null,
   "id": "02069a02",
   "metadata": {},
   "outputs": [],
   "source": [
    "Primary Key:\n",
    "A primary key is a column or a set of columns in a database table that uniquely identifies each row in that table. It provides a way to enforce entity integrity, ensuring that each row has a unique identifier. Here are some key points about primary keys:"
   ]
  },
  {
   "cell_type": "code",
   "execution_count": null,
   "id": "faef9239",
   "metadata": {},
   "outputs": [],
   "source": [
    "   Foreign Key:\n",
    "A foreign key is a column or a set of columns in a table that refers to the primary key of another table. It establishes a relationship between two tables based on the values of the foreign key column(s) and the primary key column(s) it references. Here are some key points about foreign keys:"
   ]
  },
  {
   "cell_type": "code",
   "execution_count": null,
   "id": "7938cc99",
   "metadata": {},
   "outputs": [],
   "source": [
    "#Q6"
   ]
  },
  {
   "cell_type": "code",
   "execution_count": null,
   "id": "f3f6f3be",
   "metadata": {},
   "outputs": [],
   "source": [
    "import mysql.connector\n",
    "mydb = mysql.connector.connect(\n",
    "  host=\"localhost\",\n",
    "  user=\"abc\",\n",
    "  password=\"password\"\n",
    ")"
   ]
  },
  {
   "cell_type": "code",
   "execution_count": null,
   "id": "4d9aa07b",
   "metadata": {},
   "outputs": [],
   "source": [
    "cursor() method:\n",
    "The cursor() method is used to create a cursor object. A cursor is a database object that enables you to traverse \n",
    "and manipulate the result set of a query. It provides a way to iterate over the rows returned by a database query \n",
    "and access individual columns or fields within each row.\n"
   ]
  },
  {
   "cell_type": "code",
   "execution_count": null,
   "id": "e8818bae",
   "metadata": {},
   "outputs": [],
   "source": [
    "execute() method:\n",
    "The execute() method is used to execute an SQL query or statement. It takes an SQL query as a parameter and sends it \n",
    "to the database for execution. The execute() method is often called on a cursor object.\n"
   ]
  },
  {
   "cell_type": "code",
   "execution_count": null,
   "id": "9d7e8db3",
   "metadata": {},
   "outputs": [],
   "source": [
    "#Q7"
   ]
  },
  {
   "cell_type": "code",
   "execution_count": null,
   "id": "ff9b3a6a",
   "metadata": {},
   "outputs": [],
   "source": [
    "In general, the order of execution of clauses in an SQL query follows this sequence:\n",
    "From\n",
    "Join\n",
    "where\n",
    "Group by\n",
    "Having select\n",
    "distinct\n",
    "LIMIT/OFFSET:"
   ]
  },
  {
   "cell_type": "code",
   "execution_count": null,
   "id": "ddffdaee",
   "metadata": {},
   "outputs": [],
   "source": []
  },
  {
   "cell_type": "code",
   "execution_count": null,
   "id": "a26a08f9",
   "metadata": {},
   "outputs": [],
   "source": []
  },
  {
   "cell_type": "code",
   "execution_count": null,
   "id": "54828a90",
   "metadata": {},
   "outputs": [],
   "source": []
  },
  {
   "cell_type": "code",
   "execution_count": null,
   "id": "582a91c9",
   "metadata": {},
   "outputs": [],
   "source": []
  },
  {
   "cell_type": "code",
   "execution_count": null,
   "id": "b79ac2fd",
   "metadata": {},
   "outputs": [],
   "source": []
  }
 ],
 "metadata": {
  "kernelspec": {
   "display_name": "Python 3 (ipykernel)",
   "language": "python",
   "name": "python3"
  },
  "language_info": {
   "codemirror_mode": {
    "name": "ipython",
    "version": 3
   },
   "file_extension": ".py",
   "mimetype": "text/x-python",
   "name": "python",
   "nbconvert_exporter": "python",
   "pygments_lexer": "ipython3",
   "version": "3.9.13"
  }
 },
 "nbformat": 4,
 "nbformat_minor": 5
}
